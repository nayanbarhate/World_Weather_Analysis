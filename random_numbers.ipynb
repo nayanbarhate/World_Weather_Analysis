{
 "cells": [
  {
   "cell_type": "markdown",
   "id": "69939b83",
   "metadata": {},
   "source": [
    "# The Random Module"
   ]
  },
  {
   "cell_type": "code",
   "execution_count": 1,
   "id": "8829aa0f",
   "metadata": {},
   "outputs": [],
   "source": [
    "# Import therandom module\n",
    "import random"
   ]
  },
  {
   "cell_type": "markdown",
   "id": "caad826f",
   "metadata": {},
   "source": [
    "### The randint() Function: "
   ]
  },
  {
   "cell_type": "code",
   "execution_count": 2,
   "id": "d5328048",
   "metadata": {},
   "outputs": [
    {
     "data": {
      "text/plain": [
       "-44"
      ]
     },
     "execution_count": 2,
     "metadata": {},
     "output_type": "execute_result"
    }
   ],
   "source": [
    "random.randint(-90, 90)"
   ]
  },
  {
   "cell_type": "markdown",
   "id": "1293e07e",
   "metadata": {},
   "source": [
    "### The random() Function"
   ]
  },
  {
   "cell_type": "code",
   "execution_count": 3,
   "id": "4065a164",
   "metadata": {},
   "outputs": [
    {
     "data": {
      "text/plain": [
       "0.7100501927011776"
      ]
     },
     "execution_count": 3,
     "metadata": {},
     "output_type": "execute_result"
    }
   ],
   "source": [
    "random.random()"
   ]
  },
  {
   "cell_type": "code",
   "execution_count": 4,
   "id": "c231d812",
   "metadata": {},
   "outputs": [
    {
     "data": {
      "text/plain": [
       "22.210105879520107"
      ]
     },
     "execution_count": 4,
     "metadata": {},
     "output_type": "execute_result"
    }
   ],
   "source": [
    "random_number = random.randint(-90, 90) + random.random()\n",
    "random_number"
   ]
  },
  {
   "cell_type": "code",
   "execution_count": 9,
   "id": "5205de1e",
   "metadata": {},
   "outputs": [],
   "source": [
    "x = 1\n",
    "latitudes = []\n",
    "while x < 11:\n",
    "    random_lat = random.randint(-90, 89) + random.random()\n",
    "    latitudes.append(random_lat)\n",
    "    x += 1"
   ]
  },
  {
   "cell_type": "code",
   "execution_count": 10,
   "id": "dd6bccb5",
   "metadata": {},
   "outputs": [
    {
     "data": {
      "text/plain": [
       "[-34.96127520600826,\n",
       " 25.870908859794294,\n",
       " -8.136833336316952,\n",
       " 4.171135058556214,\n",
       " -50.72221349960852,\n",
       " 29.30941166773676,\n",
       " -26.38855088855152,\n",
       " 68.16940534891992,\n",
       " 67.41779923315603,\n",
       " 12.237578699313502]"
      ]
     },
     "execution_count": 10,
     "metadata": {},
     "output_type": "execute_result"
    }
   ],
   "source": [
    "latitudes"
   ]
  },
  {
   "cell_type": "markdown",
   "id": "f593cb44",
   "metadata": {},
   "source": [
    "### The randrange() Function"
   ]
  },
  {
   "cell_type": "code",
   "execution_count": 6,
   "id": "8f621bed",
   "metadata": {},
   "outputs": [
    {
     "data": {
      "text/plain": [
       "-80"
      ]
     },
     "execution_count": 6,
     "metadata": {},
     "output_type": "execute_result"
    }
   ],
   "source": [
    "random.randrange(-90, 90, step=1)"
   ]
  },
  {
   "cell_type": "code",
   "execution_count": 7,
   "id": "ac99a1fc",
   "metadata": {},
   "outputs": [
    {
     "data": {
      "text/plain": [
       "18"
      ]
     },
     "execution_count": 7,
     "metadata": {},
     "output_type": "execute_result"
    }
   ],
   "source": [
    "random.randrange(-90, 90, step=3)"
   ]
  },
  {
   "cell_type": "markdown",
   "id": "93e67da7",
   "metadata": {},
   "source": [
    "### The uniform() Function"
   ]
  },
  {
   "cell_type": "code",
   "execution_count": 11,
   "id": "e781374b",
   "metadata": {},
   "outputs": [
    {
     "data": {
      "text/plain": [
       "77.54241598905628"
      ]
     },
     "execution_count": 11,
     "metadata": {},
     "output_type": "execute_result"
    }
   ],
   "source": [
    "random.uniform(-90, 90)"
   ]
  },
  {
   "cell_type": "markdown",
   "id": "58a120aa",
   "metadata": {},
   "source": [
    "# The NumPy and Random Modules"
   ]
  },
  {
   "cell_type": "code",
   "execution_count": 13,
   "id": "698bb63a",
   "metadata": {},
   "outputs": [],
   "source": [
    "# Import the NumPy module.\n",
    "import numpy as np"
   ]
  },
  {
   "cell_type": "code",
   "execution_count": 14,
   "id": "c3f25587",
   "metadata": {},
   "outputs": [
    {
     "data": {
      "text/plain": [
       "42.78787170666425"
      ]
     },
     "execution_count": 14,
     "metadata": {},
     "output_type": "execute_result"
    }
   ],
   "source": [
    "np.random.uniform(-90.000, 90.000)"
   ]
  },
  {
   "cell_type": "code",
   "execution_count": 15,
   "id": "28013fac",
   "metadata": {},
   "outputs": [
    {
     "data": {
      "text/plain": [
       "array([ 79.88877484,  33.91966069,  53.24112464,  46.26449558,\n",
       "       -62.55949381,   2.45557977,  20.91042364,  -9.93254821,\n",
       "        83.0791692 , -87.92449489, -27.60225412,  40.52316713,\n",
       "        10.16813855,  87.54081642,  31.45873903, -34.71817226,\n",
       "        27.27400496, -64.88067293, -20.34067396, -23.61634197,\n",
       "        28.71618518,  38.65779265,  52.41156351,  35.44834301,\n",
       "        62.21752194,   1.08206574, -34.152974  , -71.14807441,\n",
       "       -13.64746831,  27.02887961,  16.99069421, -14.40143887,\n",
       "         4.79830342,   9.1581376 , -40.0753559 , -68.89453155,\n",
       "       -58.42989024, -14.12344202,  24.8308984 ,  81.59691867,\n",
       "        42.4133116 , -10.39175022, -29.18453996,   4.03914765,\n",
       "         2.59862487, -64.20716764,  52.81791762, -42.2784995 ,\n",
       "         9.23155815,  58.28953699])"
      ]
     },
     "execution_count": 15,
     "metadata": {},
     "output_type": "execute_result"
    }
   ],
   "source": [
    "np.random.uniform(-90.000, 90.000, size=50)"
   ]
  },
  {
   "cell_type": "code",
   "execution_count": 21,
   "id": "af12ea0b",
   "metadata": {},
   "outputs": [],
   "source": [
    "# Import timeit.\n",
    "import timeit"
   ]
  },
  {
   "cell_type": "code",
   "execution_count": 22,
   "id": "69b44b6d",
   "metadata": {},
   "outputs": [
    {
     "data": {
      "text/plain": [
       "array([ 79.60357641,  -3.99969819, -46.44458734, ..., -63.44722887,\n",
       "       -80.3486333 , -60.25303475])"
      ]
     },
     "execution_count": 22,
     "metadata": {},
     "output_type": "execute_result"
    }
   ],
   "source": [
    "np.random.uniform(-90.000, 90.000, size=1500)"
   ]
  },
  {
   "cell_type": "code",
   "execution_count": 23,
   "id": "781b4ca5",
   "metadata": {},
   "outputs": [
    {
     "name": "stdout",
     "output_type": "stream",
     "text": [
      "13.3 µs ± 234 ns per loop (mean ± std. dev. of 7 runs, 100000 loops each)\n"
     ]
    }
   ],
   "source": [
    "%timeit np.random.uniform(-90.000, 90.000, size=1500)"
   ]
  },
  {
   "cell_type": "code",
   "execution_count": 24,
   "id": "e3f21d7d",
   "metadata": {
    "scrolled": true
   },
   "outputs": [
    {
     "name": "stdout",
     "output_type": "stream",
     "text": [
      "1.7 ms ± 26 µs per loop (mean ± std. dev. of 7 runs, 1000 loops each)\n"
     ]
    }
   ],
   "source": [
    "def latitudes(size):\n",
    "    latitudes = []\n",
    "    x = 0\n",
    "    while x < (size):\n",
    "        random_lat = random.randint(-90, 90) + random.random()\n",
    "        latitudes.append(random_lat)\n",
    "        x += 1\n",
    "    return latitudes\n",
    "\n",
    "# Call the function with 1500.\n",
    "%timeit latitudes(1500)"
   ]
  },
  {
   "cell_type": "code",
   "execution_count": null,
   "id": "2925d6cc",
   "metadata": {},
   "outputs": [],
   "source": []
  },
  {
   "cell_type": "code",
   "execution_count": null,
   "id": "92227a81",
   "metadata": {},
   "outputs": [],
   "source": []
  }
 ],
 "metadata": {
  "kernelspec": {
   "display_name": "PythonData",
   "language": "python",
   "name": "pythondata"
  },
  "language_info": {
   "codemirror_mode": {
    "name": "ipython",
    "version": 3
   },
   "file_extension": ".py",
   "mimetype": "text/x-python",
   "name": "python",
   "nbconvert_exporter": "python",
   "pygments_lexer": "ipython3",
   "version": "3.7.11"
  }
 },
 "nbformat": 4,
 "nbformat_minor": 5
}
